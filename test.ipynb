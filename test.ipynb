{
 "cells": [
  {
   "cell_type": "code",
   "execution_count": 1,
   "metadata": {},
   "outputs": [],
   "source": [
    "import csv\n",
    "import networkx as nx\n",
    "import matplotlib.pyplot as plt\n",
    "import folium\n",
    "import haversine\n",
    "import pandas as pd"
   ]
  },
  {
   "cell_type": "code",
   "execution_count": 2,
   "metadata": {},
   "outputs": [
    {
     "name": "stdout",
     "output_type": "stream",
     "text": [
      "Orden del archivo CSV\n",
      "[('BogotÃ¡', 4.6126, -74.0705), ('MedellÃ\\xadn', 6.2447, -75.5748), ('Cali', 3.44, -76.5197), ('Barranquilla', 10.9639, -74.7964), ('Cartagena', 10.4236, -75.5253), ('Soacha', 4.5781, -74.2144), ('Palermo', 2.8883, -75.4339), ('CÃºcuta', 7.9075, -72.5047), ('Soledad', 10.917119, -74.799151)] \n",
      "\n"
     ]
    }
   ],
   "source": [
    "cities = []\n",
    "\n",
    "with open('ciudades.csv', newline='') as csvfile:\n",
    "      reader = csv.reader(csvfile, delimiter=',')  \n",
    "      next(reader)\n",
    "      for row in reader:\n",
    "        city = row[0]\n",
    "        latitud = float(row[1])\n",
    "        longitud = float(row[2])\n",
    "        cities.append((city, latitud, longitud))\n",
    "      print(\"Orden del archivo CSV\")\n",
    "      print(cities, \"\\n\")"
   ]
  },
  {
   "cell_type": "code",
   "execution_count": 3,
   "metadata": {},
   "outputs": [],
   "source": [
    "G = nx.complete_graph(len(cities))"
   ]
  },
  {
   "cell_type": "code",
   "execution_count": 4,
   "metadata": {},
   "outputs": [
    {
     "name": "stdout",
     "output_type": "stream",
     "text": [
      "ruta optima\n",
      "[0, 5, 6, 2, 4, 8, 3, 7, 1, 0] \n",
      "\n"
     ]
    }
   ],
   "source": [
    "\n",
    "\n",
    "for i in range(len(cities)):\n",
    "      for j in range(i+1, len(cities)):\n",
    "          city1 = cities[i]\n",
    "          city2 = cities[j]\n",
    "          dist = haversine.haversine((city1[1], city1[2]), (city2[1], city2[2]))\n",
    "          G.add_weighted_edges_from([(i, j, dist)])\n",
    "          #print(G)\n",
    "          \n",
    "# Calcular la ruta óptima utilizando el algoritmo TSP\n",
    "route = nx.algorithms.approximation.traveling_salesman_problem(G)\n",
    "print(\"ruta optima\")\n",
    "print(route,\"\\n\")"
   ]
  },
  {
   "cell_type": "code",
   "execution_count": 5,
   "metadata": {},
   "outputs": [
    {
     "name": "stdout",
     "output_type": "stream",
     "text": [
      "ruta optima Nombres\n",
      "[('BogotÃ¡', 4.6126, -74.0705), ('Soacha', 4.5781, -74.2144), ('Palermo', 2.8883, -75.4339), ('Cali', 3.44, -76.5197), ('Cartagena', 10.4236, -75.5253), ('Soledad', 10.917119, -74.799151), ('Barranquilla', 10.9639, -74.7964), ('CÃºcuta', 7.9075, -72.5047), ('MedellÃ\\xadn', 6.2447, -75.5748), ('BogotÃ¡', 4.6126, -74.0705)] \n",
      "\n"
     ]
    }
   ],
   "source": [
    "# Ordenar las ciudades según la ruta óptima\n",
    "ordered_cities = [cities[i] for i in route]\n",
    "print(\"ruta optima Nombres\")\n",
    "print(ordered_cities,\"\\n\")\n"
   ]
  },
  {
   "cell_type": "code",
   "execution_count": 7,
   "metadata": {},
   "outputs": [
    {
     "data": {
      "text/plain": [
       "<folium.vector_layers.PolyLine at 0x5e36320>"
      ]
     },
     "execution_count": 7,
     "metadata": {},
     "output_type": "execute_result"
    }
   ],
   "source": [
    "\n",
    "# Crear un mapa centrado en la primera ciudad de la ruta óptima\n",
    "mapa = folium.Map(location=[ordered_cities[0][1], ordered_cities[0][2]], zoom_start=5)\n",
    "\n",
    "\n",
    "# Añadir marcadores para cada ciudad en la ruta óptima\n",
    "for city in ordered_cities:\n",
    "    folium.Marker(location=[city[1], city[2]]).add_to(mapa)\n",
    "\n",
    "\n",
    "# Añadir una línea que conecte todas las ciudades en la ruta óptima\n",
    "locations = [[city[1], city[2]] for city in ordered_cities]\n",
    "folium.PolyLine(locations=locations, weight=2.5, color='blue').add_to(mapa)"
   ]
  },
  {
   "cell_type": "code",
   "execution_count": 8,
   "metadata": {},
   "outputs": [
    {
     "data": {
      "text/html": [
       "<div style=\"width:100%;\"><div style=\"position:relative;width:100%;height:0;padding-bottom:60%;\"><span style=\"color:#565656\">Make this Notebook Trusted to load map: File -> Trust Notebook</span><iframe srcdoc=\"&lt;!DOCTYPE html&gt;\n",
       "&lt;html&gt;\n",
       "&lt;head&gt;\n",
       "    \n",
       "    &lt;meta http-equiv=&quot;content-type&quot; content=&quot;text/html; charset=UTF-8&quot; /&gt;\n",
       "    \n",
       "        &lt;script&gt;\n",
       "            L_NO_TOUCH = false;\n",
       "            L_DISABLE_3D = false;\n",
       "        &lt;/script&gt;\n",
       "    \n",
       "    &lt;style&gt;html, body {width: 100%;height: 100%;margin: 0;padding: 0;}&lt;/style&gt;\n",
       "    &lt;style&gt;#map {position:absolute;top:0;bottom:0;right:0;left:0;}&lt;/style&gt;\n",
       "    &lt;script src=&quot;https://cdn.jsdelivr.net/npm/leaflet@1.9.3/dist/leaflet.js&quot;&gt;&lt;/script&gt;\n",
       "    &lt;script src=&quot;https://code.jquery.com/jquery-1.12.4.min.js&quot;&gt;&lt;/script&gt;\n",
       "    &lt;script src=&quot;https://cdn.jsdelivr.net/npm/bootstrap@5.2.2/dist/js/bootstrap.bundle.min.js&quot;&gt;&lt;/script&gt;\n",
       "    &lt;script src=&quot;https://cdnjs.cloudflare.com/ajax/libs/Leaflet.awesome-markers/2.0.2/leaflet.awesome-markers.js&quot;&gt;&lt;/script&gt;\n",
       "    &lt;link rel=&quot;stylesheet&quot; href=&quot;https://cdn.jsdelivr.net/npm/leaflet@1.9.3/dist/leaflet.css&quot;/&gt;\n",
       "    &lt;link rel=&quot;stylesheet&quot; href=&quot;https://cdn.jsdelivr.net/npm/bootstrap@5.2.2/dist/css/bootstrap.min.css&quot;/&gt;\n",
       "    &lt;link rel=&quot;stylesheet&quot; href=&quot;https://netdna.bootstrapcdn.com/bootstrap/3.0.0/css/bootstrap.min.css&quot;/&gt;\n",
       "    &lt;link rel=&quot;stylesheet&quot; href=&quot;https://cdn.jsdelivr.net/npm/@fortawesome/fontawesome-free@6.2.0/css/all.min.css&quot;/&gt;\n",
       "    &lt;link rel=&quot;stylesheet&quot; href=&quot;https://cdnjs.cloudflare.com/ajax/libs/Leaflet.awesome-markers/2.0.2/leaflet.awesome-markers.css&quot;/&gt;\n",
       "    &lt;link rel=&quot;stylesheet&quot; href=&quot;https://cdn.jsdelivr.net/gh/python-visualization/folium/folium/templates/leaflet.awesome.rotate.min.css&quot;/&gt;\n",
       "    \n",
       "            &lt;meta name=&quot;viewport&quot; content=&quot;width=device-width,\n",
       "                initial-scale=1.0, maximum-scale=1.0, user-scalable=no&quot; /&gt;\n",
       "            &lt;style&gt;\n",
       "                #map_e685382242060e1848caf1ffb1150f0b {\n",
       "                    position: relative;\n",
       "                    width: 100.0%;\n",
       "                    height: 100.0%;\n",
       "                    left: 0.0%;\n",
       "                    top: 0.0%;\n",
       "                }\n",
       "                .leaflet-container { font-size: 1rem; }\n",
       "            &lt;/style&gt;\n",
       "        \n",
       "&lt;/head&gt;\n",
       "&lt;body&gt;\n",
       "    \n",
       "    \n",
       "            &lt;div class=&quot;folium-map&quot; id=&quot;map_e685382242060e1848caf1ffb1150f0b&quot; &gt;&lt;/div&gt;\n",
       "        \n",
       "&lt;/body&gt;\n",
       "&lt;script&gt;\n",
       "    \n",
       "    \n",
       "            var map_e685382242060e1848caf1ffb1150f0b = L.map(\n",
       "                &quot;map_e685382242060e1848caf1ffb1150f0b&quot;,\n",
       "                {\n",
       "                    center: [4.6126, -74.0705],\n",
       "                    crs: L.CRS.EPSG3857,\n",
       "                    zoom: 5,\n",
       "                    zoomControl: true,\n",
       "                    preferCanvas: false,\n",
       "                }\n",
       "            );\n",
       "\n",
       "            \n",
       "\n",
       "        \n",
       "    \n",
       "            var tile_layer_8ba1e730d92b18315e5676c1001ba95c = L.tileLayer(\n",
       "                &quot;https://{s}.tile.openstreetmap.org/{z}/{x}/{y}.png&quot;,\n",
       "                {&quot;attribution&quot;: &quot;Data by \\u0026copy; \\u003ca target=\\&quot;_blank\\&quot; href=\\&quot;http://openstreetmap.org\\&quot;\\u003eOpenStreetMap\\u003c/a\\u003e, under \\u003ca target=\\&quot;_blank\\&quot; href=\\&quot;http://www.openstreetmap.org/copyright\\&quot;\\u003eODbL\\u003c/a\\u003e.&quot;, &quot;detectRetina&quot;: false, &quot;maxNativeZoom&quot;: 18, &quot;maxZoom&quot;: 18, &quot;minZoom&quot;: 0, &quot;noWrap&quot;: false, &quot;opacity&quot;: 1, &quot;subdomains&quot;: &quot;abc&quot;, &quot;tms&quot;: false}\n",
       "            ).addTo(map_e685382242060e1848caf1ffb1150f0b);\n",
       "        \n",
       "    \n",
       "            var marker_ba6a374b712220ef6d0f8166cc832f59 = L.marker(\n",
       "                [4.6126, -74.0705],\n",
       "                {}\n",
       "            ).addTo(map_e685382242060e1848caf1ffb1150f0b);\n",
       "        \n",
       "    \n",
       "            var marker_84acbe24b726ef981c86c5937f447be2 = L.marker(\n",
       "                [4.5781, -74.2144],\n",
       "                {}\n",
       "            ).addTo(map_e685382242060e1848caf1ffb1150f0b);\n",
       "        \n",
       "    \n",
       "            var marker_0095790861c699c75b775a73a7414c2e = L.marker(\n",
       "                [2.8883, -75.4339],\n",
       "                {}\n",
       "            ).addTo(map_e685382242060e1848caf1ffb1150f0b);\n",
       "        \n",
       "    \n",
       "            var marker_643bc9ea3f7513f2a9385ba31c51ebf0 = L.marker(\n",
       "                [3.44, -76.5197],\n",
       "                {}\n",
       "            ).addTo(map_e685382242060e1848caf1ffb1150f0b);\n",
       "        \n",
       "    \n",
       "            var marker_cf37bfe8bcfc9c75d842800809ed3a6f = L.marker(\n",
       "                [10.4236, -75.5253],\n",
       "                {}\n",
       "            ).addTo(map_e685382242060e1848caf1ffb1150f0b);\n",
       "        \n",
       "    \n",
       "            var marker_8a2139c04417eeb1fe8d9e4ec9bd2c4d = L.marker(\n",
       "                [10.917119, -74.799151],\n",
       "                {}\n",
       "            ).addTo(map_e685382242060e1848caf1ffb1150f0b);\n",
       "        \n",
       "    \n",
       "            var marker_f210ba365d77fd5ebb9d8ee7be6c25e1 = L.marker(\n",
       "                [10.9639, -74.7964],\n",
       "                {}\n",
       "            ).addTo(map_e685382242060e1848caf1ffb1150f0b);\n",
       "        \n",
       "    \n",
       "            var marker_4b4de29b720ce68a9b86b23e17d5d251 = L.marker(\n",
       "                [7.9075, -72.5047],\n",
       "                {}\n",
       "            ).addTo(map_e685382242060e1848caf1ffb1150f0b);\n",
       "        \n",
       "    \n",
       "            var marker_1add4c6a5dfc26ed8830c8e8ae411a69 = L.marker(\n",
       "                [6.2447, -75.5748],\n",
       "                {}\n",
       "            ).addTo(map_e685382242060e1848caf1ffb1150f0b);\n",
       "        \n",
       "    \n",
       "            var marker_b6ccbda747bf6a3ca4f43c4b848de909 = L.marker(\n",
       "                [4.6126, -74.0705],\n",
       "                {}\n",
       "            ).addTo(map_e685382242060e1848caf1ffb1150f0b);\n",
       "        \n",
       "    \n",
       "            var poly_line_e4dc3b599b4efdf9607d80f8049bf5b1 = L.polyline(\n",
       "                [[4.6126, -74.0705], [4.5781, -74.2144], [2.8883, -75.4339], [3.44, -76.5197], [10.4236, -75.5253], [10.917119, -74.799151], [10.9639, -74.7964], [7.9075, -72.5047], [6.2447, -75.5748], [4.6126, -74.0705]],\n",
       "                {&quot;bubblingMouseEvents&quot;: true, &quot;color&quot;: &quot;blue&quot;, &quot;dashArray&quot;: null, &quot;dashOffset&quot;: null, &quot;fill&quot;: false, &quot;fillColor&quot;: &quot;blue&quot;, &quot;fillOpacity&quot;: 0.2, &quot;fillRule&quot;: &quot;evenodd&quot;, &quot;lineCap&quot;: &quot;round&quot;, &quot;lineJoin&quot;: &quot;round&quot;, &quot;noClip&quot;: false, &quot;opacity&quot;: 1.0, &quot;smoothFactor&quot;: 1.0, &quot;stroke&quot;: true, &quot;weight&quot;: 2.5}\n",
       "            ).addTo(map_e685382242060e1848caf1ffb1150f0b);\n",
       "        \n",
       "&lt;/script&gt;\n",
       "&lt;/html&gt;\" style=\"position:absolute;width:100%;height:100%;left:0;top:0;border:none !important;\" allowfullscreen webkitallowfullscreen mozallowfullscreen></iframe></div></div>"
      ],
      "text/plain": [
       "<folium.folium.Map at 0x5e36c50>"
      ]
     },
     "execution_count": 8,
     "metadata": {},
     "output_type": "execute_result"
    }
   ],
   "source": [
    "mapa"
   ]
  }
 ],
 "metadata": {
  "kernelspec": {
   "display_name": "Python 3",
   "language": "python",
   "name": "python3"
  },
  "language_info": {
   "codemirror_mode": {
    "name": "ipython",
    "version": 3
   },
   "file_extension": ".py",
   "mimetype": "text/x-python",
   "name": "python",
   "nbconvert_exporter": "python",
   "pygments_lexer": "ipython3",
   "version": "3.10.7"
  },
  "orig_nbformat": 4
 },
 "nbformat": 4,
 "nbformat_minor": 2
}
